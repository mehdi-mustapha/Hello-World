{
  "nbformat": 4,
  "nbformat_minor": 0,
  "metadata": {
    "accelerator": "GPU",
    "colab": {
      "name": "01_NLP_with_Tensorflow traduit et execute sur google colab.ipynb",
      "provenance": [],
      "toc_visible": true,
      "include_colab_link": true
    },
    "kernelspec": {
      "display_name": "Python 3",
      "language": "python",
      "name": "python3"
    },
    "language_info": {
      "codemirror_mode": {
        "name": "ipython",
        "version": 3
      },
      "file_extension": ".py",
      "mimetype": "text/x-python",
      "name": "python",
      "nbconvert_exporter": "python",
      "pygments_lexer": "ipython3",
      "version": "3.8.5"
    }
  },
  "cells": [
    {
      "cell_type": "markdown",
      "metadata": {
        "id": "view-in-github",
        "colab_type": "text"
      },
      "source": [
        "<a href=\"https://colab.research.google.com/github/mehdi-mustapha/Hello-World/blob/main/01_NLP_with_Tensorflow_traduit_et_execute_sur_google_colab.ipynb\" target=\"_parent\"><img src=\"https://colab.research.google.com/assets/colab-badge.svg\" alt=\"Open In Colab\"/></a>"
      ]
    },
    {
      "cell_type": "markdown",
      "metadata": {
        "id": "UEa8O_OU8RO_"
      },
      "source": [
        "# Introduction to Natural Language Processing \n",
        "\n",
        "In this tutorial, we are going to do some text classification. These texts are translations of the Illiad. We are going to teach our NLP algorithm to understand each of the translations and to assign them to the right translator. Our learning process will be the same as for CNN : \n",
        "\n",
        "1. Data Preprocessing \n",
        "2. Modeling \n",
        "3. Evaluation \n",
        "\n",
        "# Introduction au traitement du langage naturel \n",
        "\n",
        "###Dans ce tutoriel, nous allons faire de la classification de textes. Ces textes sont des traductions de l'Illiade. Nous allons apprendre à notre algorithme NLP à comprendre chacune des traductions et à les assigner au bon traducteur. Notre processus d'apprentissage sera le même que pour CNN : \n",
        "\n",
        "### 1. Prétraitement des données \n",
        "### 2. Modélisation \n",
        "### 3. Évaluation \n",
        "\n"
      ]
    },
    {
      "cell_type": "markdown",
      "metadata": {
        "id": "GlZE3Ntm8gv4"
      },
      "source": [
        "## Data Preprocessing"
      ]
    },
    {
      "cell_type": "markdown",
      "metadata": {
        "id": "FpRfWDCp9vlf"
      },
      "source": [
        "### Import Data "
      ]
    },
    {
      "cell_type": "code",
      "metadata": {
        "colab": {
          "base_uri": "https://localhost:8080/"
        },
        "id": "CWIWs0ujxxaB",
        "outputId": "72fd2d6a-f4e8-4e82-9246-e8a6fb28f4c3"
      },
      "source": [
        "# TensorFlow installation\n",
        "!pip install tensorflow"
      ],
      "execution_count": null,
      "outputs": [
        {
          "output_type": "stream",
          "name": "stdout",
          "text": [
            "Requirement already satisfied: tensorflow in /usr/local/lib/python3.7/dist-packages (2.7.0)\n",
            "Requirement already satisfied: opt-einsum>=2.3.2 in /usr/local/lib/python3.7/dist-packages (from tensorflow) (3.3.0)\n",
            "Requirement already satisfied: absl-py>=0.4.0 in /usr/local/lib/python3.7/dist-packages (from tensorflow) (1.0.0)\n",
            "Requirement already satisfied: google-pasta>=0.1.1 in /usr/local/lib/python3.7/dist-packages (from tensorflow) (0.2.0)\n",
            "Requirement already satisfied: typing-extensions>=3.6.6 in /usr/local/lib/python3.7/dist-packages (from tensorflow) (3.10.0.2)\n",
            "Requirement already satisfied: flatbuffers<3.0,>=1.12 in /usr/local/lib/python3.7/dist-packages (from tensorflow) (2.0)\n",
            "Requirement already satisfied: termcolor>=1.1.0 in /usr/local/lib/python3.7/dist-packages (from tensorflow) (1.1.0)\n",
            "Requirement already satisfied: wheel<1.0,>=0.32.0 in /usr/local/lib/python3.7/dist-packages (from tensorflow) (0.37.1)\n",
            "Requirement already satisfied: tensorflow-estimator<2.8,~=2.7.0rc0 in /usr/local/lib/python3.7/dist-packages (from tensorflow) (2.7.0)\n",
            "Requirement already satisfied: tensorflow-io-gcs-filesystem>=0.21.0 in /usr/local/lib/python3.7/dist-packages (from tensorflow) (0.23.1)\n",
            "Requirement already satisfied: h5py>=2.9.0 in /usr/local/lib/python3.7/dist-packages (from tensorflow) (3.1.0)\n",
            "Requirement already satisfied: keras<2.8,>=2.7.0rc0 in /usr/local/lib/python3.7/dist-packages (from tensorflow) (2.7.0)\n",
            "Requirement already satisfied: gast<0.5.0,>=0.2.1 in /usr/local/lib/python3.7/dist-packages (from tensorflow) (0.4.0)\n",
            "Requirement already satisfied: six>=1.12.0 in /usr/local/lib/python3.7/dist-packages (from tensorflow) (1.15.0)\n",
            "Requirement already satisfied: libclang>=9.0.1 in /usr/local/lib/python3.7/dist-packages (from tensorflow) (12.0.0)\n",
            "Requirement already satisfied: keras-preprocessing>=1.1.1 in /usr/local/lib/python3.7/dist-packages (from tensorflow) (1.1.2)\n",
            "Requirement already satisfied: wrapt>=1.11.0 in /usr/local/lib/python3.7/dist-packages (from tensorflow) (1.13.3)\n",
            "Requirement already satisfied: grpcio<2.0,>=1.24.3 in /usr/local/lib/python3.7/dist-packages (from tensorflow) (1.43.0)\n",
            "Requirement already satisfied: tensorboard~=2.6 in /usr/local/lib/python3.7/dist-packages (from tensorflow) (2.7.0)\n",
            "Requirement already satisfied: astunparse>=1.6.0 in /usr/local/lib/python3.7/dist-packages (from tensorflow) (1.6.3)\n",
            "Requirement already satisfied: protobuf>=3.9.2 in /usr/local/lib/python3.7/dist-packages (from tensorflow) (3.17.3)\n",
            "Requirement already satisfied: numpy>=1.14.5 in /usr/local/lib/python3.7/dist-packages (from tensorflow) (1.19.5)\n",
            "Requirement already satisfied: cached-property in /usr/local/lib/python3.7/dist-packages (from h5py>=2.9.0->tensorflow) (1.5.2)\n",
            "Requirement already satisfied: setuptools>=41.0.0 in /usr/local/lib/python3.7/dist-packages (from tensorboard~=2.6->tensorflow) (57.4.0)\n",
            "Requirement already satisfied: requests<3,>=2.21.0 in /usr/local/lib/python3.7/dist-packages (from tensorboard~=2.6->tensorflow) (2.23.0)\n",
            "Requirement already satisfied: tensorboard-data-server<0.7.0,>=0.6.0 in /usr/local/lib/python3.7/dist-packages (from tensorboard~=2.6->tensorflow) (0.6.1)\n",
            "Requirement already satisfied: google-auth<3,>=1.6.3 in /usr/local/lib/python3.7/dist-packages (from tensorboard~=2.6->tensorflow) (1.35.0)\n",
            "Requirement already satisfied: werkzeug>=0.11.15 in /usr/local/lib/python3.7/dist-packages (from tensorboard~=2.6->tensorflow) (1.0.1)\n",
            "Requirement already satisfied: google-auth-oauthlib<0.5,>=0.4.1 in /usr/local/lib/python3.7/dist-packages (from tensorboard~=2.6->tensorflow) (0.4.6)\n",
            "Requirement already satisfied: tensorboard-plugin-wit>=1.6.0 in /usr/local/lib/python3.7/dist-packages (from tensorboard~=2.6->tensorflow) (1.8.1)\n",
            "Requirement already satisfied: markdown>=2.6.8 in /usr/local/lib/python3.7/dist-packages (from tensorboard~=2.6->tensorflow) (3.3.6)\n",
            "Requirement already satisfied: rsa<5,>=3.1.4 in /usr/local/lib/python3.7/dist-packages (from google-auth<3,>=1.6.3->tensorboard~=2.6->tensorflow) (4.8)\n",
            "Requirement already satisfied: pyasn1-modules>=0.2.1 in /usr/local/lib/python3.7/dist-packages (from google-auth<3,>=1.6.3->tensorboard~=2.6->tensorflow) (0.2.8)\n",
            "Requirement already satisfied: cachetools<5.0,>=2.0.0 in /usr/local/lib/python3.7/dist-packages (from google-auth<3,>=1.6.3->tensorboard~=2.6->tensorflow) (4.2.4)\n",
            "Requirement already satisfied: requests-oauthlib>=0.7.0 in /usr/local/lib/python3.7/dist-packages (from google-auth-oauthlib<0.5,>=0.4.1->tensorboard~=2.6->tensorflow) (1.3.0)\n",
            "Requirement already satisfied: importlib-metadata>=4.4 in /usr/local/lib/python3.7/dist-packages (from markdown>=2.6.8->tensorboard~=2.6->tensorflow) (4.10.1)\n",
            "Requirement already satisfied: zipp>=0.5 in /usr/local/lib/python3.7/dist-packages (from importlib-metadata>=4.4->markdown>=2.6.8->tensorboard~=2.6->tensorflow) (3.7.0)\n",
            "Requirement already satisfied: pyasn1<0.5.0,>=0.4.6 in /usr/local/lib/python3.7/dist-packages (from pyasn1-modules>=0.2.1->google-auth<3,>=1.6.3->tensorboard~=2.6->tensorflow) (0.4.8)\n",
            "Requirement already satisfied: idna<3,>=2.5 in /usr/local/lib/python3.7/dist-packages (from requests<3,>=2.21.0->tensorboard~=2.6->tensorflow) (2.10)\n",
            "Requirement already satisfied: certifi>=2017.4.17 in /usr/local/lib/python3.7/dist-packages (from requests<3,>=2.21.0->tensorboard~=2.6->tensorflow) (2021.10.8)\n",
            "Requirement already satisfied: urllib3!=1.25.0,!=1.25.1,<1.26,>=1.21.1 in /usr/local/lib/python3.7/dist-packages (from requests<3,>=2.21.0->tensorboard~=2.6->tensorflow) (1.24.3)\n",
            "Requirement already satisfied: chardet<4,>=3.0.2 in /usr/local/lib/python3.7/dist-packages (from requests<3,>=2.21.0->tensorboard~=2.6->tensorflow) (3.0.4)\n",
            "Requirement already satisfied: oauthlib>=3.0.0 in /usr/local/lib/python3.7/dist-packages (from requests-oauthlib>=0.7.0->google-auth-oauthlib<0.5,>=0.4.1->tensorboard~=2.6->tensorflow) (3.1.1)\n"
          ]
        }
      ]
    },
    {
      "cell_type": "code",
      "metadata": {
        "colab": {
          "base_uri": "https://localhost:8080/",
          "height": 35
        },
        "id": "RMBnbVdZygEr",
        "outputId": "8668c8c0-4972-407b-fc0b-25ccf983d97d"
      },
      "source": [
        "# Import librairies TensorFlow & Pathlib \n",
        "import tensorflow as tf \n",
        "import tensorflow_datasets as tfds\n",
        "import pathlib \n",
        "import pandas as pd\n",
        "tf.__version__"
      ],
      "execution_count": null,
      "outputs": [
        {
          "output_type": "execute_result",
          "data": {
            "application/vnd.google.colaboratory.intrinsic+json": {
              "type": "string"
            },
            "text/plain": [
              "'2.7.0'"
            ]
          },
          "metadata": {},
          "execution_count": 4
        }
      ]
    },
    {
      "cell_type": "code",
      "metadata": {
        "colab": {
          "base_uri": "https://localhost:8080/"
        },
        "id": "Irik4DyW0acS",
        "outputId": "1480898f-4fd6-4ed5-a107-d0d4ff760300"
      },
      "source": [
        "# Import text files containing the translations of the Illiad\n",
        "# Importer les fichiers texte contenant les traductions de l'Illiade\n",
        "\n",
        "DIRECTORY_URL = 'https://storage.googleapis.com/download.tensorflow.org/data/illiad/'\n",
        "FILE_NAMES = ['cowper.txt', 'derby.txt', 'butler.txt']\n",
        "\n",
        "for name in FILE_NAMES:\n",
        "  tf.keras.utils.get_file(name, \n",
        "                          DIRECTORY_URL+name,\n",
        "                          cache_subdir=\"/content\")"
      ],
      "execution_count": null,
      "outputs": [
        {
          "output_type": "stream",
          "name": "stdout",
          "text": [
            "Downloading data from https://storage.googleapis.com/download.tensorflow.org/data/illiad/cowper.txt\n",
            "819200/815980 [==============================] - 0s 0us/step\n",
            "827392/815980 [==============================] - 0s 0us/step\n",
            "Downloading data from https://storage.googleapis.com/download.tensorflow.org/data/illiad/derby.txt\n",
            "811008/809730 [==============================] - 0s 0us/step\n",
            "819200/809730 [==============================] - 0s 0us/step\n",
            "Downloading data from https://storage.googleapis.com/download.tensorflow.org/data/illiad/butler.txt\n",
            "811008/807992 [==============================] - 0s 0us/step\n",
            "819200/807992 [==============================] - 0s 0us/step\n"
          ]
        }
      ]
    },
    {
      "cell_type": "code",
      "metadata": {
        "colab": {
          "base_uri": "https://localhost:8080/"
        },
        "id": "lXLZFpg50swK",
        "outputId": "b18d701a-70f1-4dda-f223-de794e09bce8"
      },
      "source": [
        "# Let's take a look at the folders in /content from colab\n",
        "# Regardons les dossiers dans /content de colab.\n",
        "\n",
        "all_files = pathlib.Path(\"/content\")\n",
        "list(all_files.glob(\"*\"))"
      ],
      "execution_count": null,
      "outputs": [
        {
          "output_type": "execute_result",
          "data": {
            "text/plain": [
              "[PosixPath('/content/.config'),\n",
              " PosixPath('/content/derby.txt'),\n",
              " PosixPath('/content/butler.txt'),\n",
              " PosixPath('/content/cowper.txt'),\n",
              " PosixPath('/content/sample_data')]"
            ]
          },
          "metadata": {},
          "execution_count": 6
        }
      ]
    },
    {
      "cell_type": "code",
      "metadata": {
        "colab": {
          "base_uri": "https://localhost:8080/"
        },
        "id": "xe2j2atl1qNM",
        "outputId": "a6a56306-9c33-416f-822a-10d0ef9614c6"
      },
      "source": [
        "# Let's take only files with the .txt extension\n",
        "# Prenons seulement les fichiers avec l'extension .txt\n",
        "\n",
        "text_files = [path for path in list(all_files.glob(\"*\")) if path.suffix==\".txt\"]\n",
        "text_files"
      ],
      "execution_count": null,
      "outputs": [
        {
          "output_type": "execute_result",
          "data": {
            "text/plain": [
              "[PosixPath('/content/derby.txt'),\n",
              " PosixPath('/content/butler.txt'),\n",
              " PosixPath('/content/cowper.txt')]"
            ]
          },
          "metadata": {},
          "execution_count": 7
        }
      ]
    },
    {
      "cell_type": "code",
      "metadata": {
        "colab": {
          "base_uri": "https://localhost:8080/"
        },
        "id": "A61O3Q7Z2v9G",
        "outputId": "c5bc6fd4-07f0-4be5-94e7-cabe8b9089da"
      },
      "source": [
        "for path in text_files:\n",
        "  print(path.name)"
      ],
      "execution_count": null,
      "outputs": [
        {
          "output_type": "stream",
          "name": "stdout",
          "text": [
            "derby.txt\n",
            "butler.txt\n",
            "cowper.txt\n"
          ]
        }
      ]
    },
    {
      "cell_type": "code",
      "metadata": {
        "id": "H55F4qeOVwnH"
      },
      "source": [
        "with open(text_files[0]) as text:\n",
        "  text_lines = text.readlines()"
      ],
      "execution_count": null,
      "outputs": []
    },
    {
      "cell_type": "code",
      "metadata": {
        "colab": {
          "base_uri": "https://localhost:8080/",
          "height": 241
        },
        "id": "oYvjtij0Vkm2",
        "outputId": "f04c122c-a635-4d4a-8b00-0ee926826599"
      },
      "source": [
        "texts = []\n",
        "labels = []\n",
        "\n",
        "for i, path in enumerate(text_files):\n",
        "  with open(path) as text:\n",
        "    text_lines = text.readlines()\n",
        "    texts += text_lines\n",
        "    labels += [i for line in text_lines]\n",
        "\n",
        "print(len(texts))\n",
        "print(len(labels))\n",
        "\n",
        "df = pd.DataFrame({\"text\":texts, \"label\":labels})\n",
        "df.head()"
      ],
      "execution_count": null,
      "outputs": [
        {
          "output_type": "stream",
          "name": "stdout",
          "text": [
            "49608\n",
            "49608\n"
          ]
        },
        {
          "output_type": "execute_result",
          "data": {
            "text/html": [
              "\n",
              "  <div id=\"df-a1d74a70-572b-4cea-bdbc-29552c1bf058\">\n",
              "    <div class=\"colab-df-container\">\n",
              "      <div>\n",
              "<style scoped>\n",
              "    .dataframe tbody tr th:only-of-type {\n",
              "        vertical-align: middle;\n",
              "    }\n",
              "\n",
              "    .dataframe tbody tr th {\n",
              "        vertical-align: top;\n",
              "    }\n",
              "\n",
              "    .dataframe thead th {\n",
              "        text-align: right;\n",
              "    }\n",
              "</style>\n",
              "<table border=\"1\" class=\"dataframe\">\n",
              "  <thead>\n",
              "    <tr style=\"text-align: right;\">\n",
              "      <th></th>\n",
              "      <th>text</th>\n",
              "      <th>label</th>\n",
              "    </tr>\n",
              "  </thead>\n",
              "  <tbody>\n",
              "    <tr>\n",
              "      <th>0</th>\n",
              "      <td>﻿Of Peleus' son, Achilles, sing, O Muse,\\n</td>\n",
              "      <td>0</td>\n",
              "    </tr>\n",
              "    <tr>\n",
              "      <th>1</th>\n",
              "      <td>The vengeance, deep and deadly; whence to Gree...</td>\n",
              "      <td>0</td>\n",
              "    </tr>\n",
              "    <tr>\n",
              "      <th>2</th>\n",
              "      <td>Unnumbered ills arose; which many a soul\\n</td>\n",
              "      <td>0</td>\n",
              "    </tr>\n",
              "    <tr>\n",
              "      <th>3</th>\n",
              "      <td>Of mighty warriors to the viewless shades\\n</td>\n",
              "      <td>0</td>\n",
              "    </tr>\n",
              "    <tr>\n",
              "      <th>4</th>\n",
              "      <td>Untimely sent; they on the battle plain\\n</td>\n",
              "      <td>0</td>\n",
              "    </tr>\n",
              "  </tbody>\n",
              "</table>\n",
              "</div>\n",
              "      <button class=\"colab-df-convert\" onclick=\"convertToInteractive('df-a1d74a70-572b-4cea-bdbc-29552c1bf058')\"\n",
              "              title=\"Convert this dataframe to an interactive table.\"\n",
              "              style=\"display:none;\">\n",
              "        \n",
              "  <svg xmlns=\"http://www.w3.org/2000/svg\" height=\"24px\"viewBox=\"0 0 24 24\"\n",
              "       width=\"24px\">\n",
              "    <path d=\"M0 0h24v24H0V0z\" fill=\"none\"/>\n",
              "    <path d=\"M18.56 5.44l.94 2.06.94-2.06 2.06-.94-2.06-.94-.94-2.06-.94 2.06-2.06.94zm-11 1L8.5 8.5l.94-2.06 2.06-.94-2.06-.94L8.5 2.5l-.94 2.06-2.06.94zm10 10l.94 2.06.94-2.06 2.06-.94-2.06-.94-.94-2.06-.94 2.06-2.06.94z\"/><path d=\"M17.41 7.96l-1.37-1.37c-.4-.4-.92-.59-1.43-.59-.52 0-1.04.2-1.43.59L10.3 9.45l-7.72 7.72c-.78.78-.78 2.05 0 2.83L4 21.41c.39.39.9.59 1.41.59.51 0 1.02-.2 1.41-.59l7.78-7.78 2.81-2.81c.8-.78.8-2.07 0-2.86zM5.41 20L4 18.59l7.72-7.72 1.47 1.35L5.41 20z\"/>\n",
              "  </svg>\n",
              "      </button>\n",
              "      \n",
              "  <style>\n",
              "    .colab-df-container {\n",
              "      display:flex;\n",
              "      flex-wrap:wrap;\n",
              "      gap: 12px;\n",
              "    }\n",
              "\n",
              "    .colab-df-convert {\n",
              "      background-color: #E8F0FE;\n",
              "      border: none;\n",
              "      border-radius: 50%;\n",
              "      cursor: pointer;\n",
              "      display: none;\n",
              "      fill: #1967D2;\n",
              "      height: 32px;\n",
              "      padding: 0 0 0 0;\n",
              "      width: 32px;\n",
              "    }\n",
              "\n",
              "    .colab-df-convert:hover {\n",
              "      background-color: #E2EBFA;\n",
              "      box-shadow: 0px 1px 2px rgba(60, 64, 67, 0.3), 0px 1px 3px 1px rgba(60, 64, 67, 0.15);\n",
              "      fill: #174EA6;\n",
              "    }\n",
              "\n",
              "    [theme=dark] .colab-df-convert {\n",
              "      background-color: #3B4455;\n",
              "      fill: #D2E3FC;\n",
              "    }\n",
              "\n",
              "    [theme=dark] .colab-df-convert:hover {\n",
              "      background-color: #434B5C;\n",
              "      box-shadow: 0px 1px 3px 1px rgba(0, 0, 0, 0.15);\n",
              "      filter: drop-shadow(0px 1px 2px rgba(0, 0, 0, 0.3));\n",
              "      fill: #FFFFFF;\n",
              "    }\n",
              "  </style>\n",
              "\n",
              "      <script>\n",
              "        const buttonEl =\n",
              "          document.querySelector('#df-a1d74a70-572b-4cea-bdbc-29552c1bf058 button.colab-df-convert');\n",
              "        buttonEl.style.display =\n",
              "          google.colab.kernel.accessAllowed ? 'block' : 'none';\n",
              "\n",
              "        async function convertToInteractive(key) {\n",
              "          const element = document.querySelector('#df-a1d74a70-572b-4cea-bdbc-29552c1bf058');\n",
              "          const dataTable =\n",
              "            await google.colab.kernel.invokeFunction('convertToInteractive',\n",
              "                                                     [key], {});\n",
              "          if (!dataTable) return;\n",
              "\n",
              "          const docLinkHtml = 'Like what you see? Visit the ' +\n",
              "            '<a target=\"_blank\" href=https://colab.research.google.com/notebooks/data_table.ipynb>data table notebook</a>'\n",
              "            + ' to learn more about interactive tables.';\n",
              "          element.innerHTML = '';\n",
              "          dataTable['output_type'] = 'display_data';\n",
              "          await google.colab.output.renderOutput(dataTable, element);\n",
              "          const docLink = document.createElement('div');\n",
              "          docLink.innerHTML = docLinkHtml;\n",
              "          element.appendChild(docLink);\n",
              "        }\n",
              "      </script>\n",
              "    </div>\n",
              "  </div>\n",
              "  "
            ],
            "text/plain": [
              "                                                text  label\n",
              "0         ﻿Of Peleus' son, Achilles, sing, O Muse,\\n      0\n",
              "1  The vengeance, deep and deadly; whence to Gree...      0\n",
              "2         Unnumbered ills arose; which many a soul\\n      0\n",
              "3        Of mighty warriors to the viewless shades\\n      0\n",
              "4          Untimely sent; they on the battle plain\\n      0"
            ]
          },
          "metadata": {},
          "execution_count": 10
        }
      ]
    },
    {
      "cell_type": "markdown",
      "metadata": {
        "id": "X8Duro5f8i7U"
      },
      "source": [
        "### Tokenize\n",
        "\n",
        "Nous allons maintenant passer par une phase de Tokenisation. Autrement dit, nous allons assigner un numéro à chacun des mots présent dans notre corpus de texte. "
      ]
    },
    {
      "cell_type": "code",
      "metadata": {
        "colab": {
          "base_uri": "https://localhost:8080/",
          "height": 35
        },
        "id": "0AZNrldLqDtz",
        "outputId": "80247004-b428-43bd-8062-05d481bd2392"
      },
      "source": [
        "import spacy\n",
        "spacy.__version__"
      ],
      "execution_count": null,
      "outputs": [
        {
          "output_type": "execute_result",
          "data": {
            "application/vnd.google.colaboratory.intrinsic+json": {
              "type": "string"
            },
            "text/plain": [
              "'2.2.4'"
            ]
          },
          "metadata": {},
          "execution_count": 11
        }
      ]
    },
    {
      "cell_type": "code",
      "metadata": {
        "id": "ctZXHe0XqSH5"
      },
      "source": [
        "nlp = spacy.load(\"en\")"
      ],
      "execution_count": null,
      "outputs": []
    },
    {
      "cell_type": "code",
      "metadata": {
        "id": "ZZc4L1llqWON"
      },
      "source": [
        "from spacy.lang.en.stop_words import STOP_WORDS\n"
      ],
      "execution_count": null,
      "outputs": []
    },
    {
      "cell_type": "code",
      "metadata": {
        "colab": {
          "base_uri": "https://localhost:8080/",
          "height": 206
        },
        "id": "aSUkt6pirJs_",
        "outputId": "2c457bba-ad96-41b5-f9a8-0301af224cc8"
      },
      "source": [
        "def lemmatize_text(text):\n",
        "  text = ''.join(ch for ch in text if ch.isalnum() or ch==\" \")\n",
        "  text = text.replace(\" +\",\" \").lower().strip()\n",
        "  text=nlp(text)\n",
        "  lemma = ' '.join([token.lemma_ for token in text if token.text not in STOP_WORDS])\n",
        "  return lemma\n",
        "\n",
        "df[\"text_clean\"] = df[\"text\"].apply(lambda x: lemmatize_text(x))\n",
        "df.head()"
      ],
      "execution_count": null,
      "outputs": [
        {
          "output_type": "execute_result",
          "data": {
            "text/html": [
              "\n",
              "  <div id=\"df-269befee-1222-4313-a523-15426b927e71\">\n",
              "    <div class=\"colab-df-container\">\n",
              "      <div>\n",
              "<style scoped>\n",
              "    .dataframe tbody tr th:only-of-type {\n",
              "        vertical-align: middle;\n",
              "    }\n",
              "\n",
              "    .dataframe tbody tr th {\n",
              "        vertical-align: top;\n",
              "    }\n",
              "\n",
              "    .dataframe thead th {\n",
              "        text-align: right;\n",
              "    }\n",
              "</style>\n",
              "<table border=\"1\" class=\"dataframe\">\n",
              "  <thead>\n",
              "    <tr style=\"text-align: right;\">\n",
              "      <th></th>\n",
              "      <th>text</th>\n",
              "      <th>label</th>\n",
              "      <th>text_clean</th>\n",
              "    </tr>\n",
              "  </thead>\n",
              "  <tbody>\n",
              "    <tr>\n",
              "      <th>0</th>\n",
              "      <td>﻿Of Peleus' son, Achilles, sing, O Muse,\\n</td>\n",
              "      <td>0</td>\n",
              "      <td>peleus son achille sing o muse</td>\n",
              "    </tr>\n",
              "    <tr>\n",
              "      <th>1</th>\n",
              "      <td>The vengeance, deep and deadly; whence to Gree...</td>\n",
              "      <td>0</td>\n",
              "      <td>vengeance deep deadly greece</td>\n",
              "    </tr>\n",
              "    <tr>\n",
              "      <th>2</th>\n",
              "      <td>Unnumbered ills arose; which many a soul\\n</td>\n",
              "      <td>0</td>\n",
              "      <td>unnumbered ill arise soul</td>\n",
              "    </tr>\n",
              "    <tr>\n",
              "      <th>3</th>\n",
              "      <td>Of mighty warriors to the viewless shades\\n</td>\n",
              "      <td>0</td>\n",
              "      <td>mighty warrior viewless shade</td>\n",
              "    </tr>\n",
              "    <tr>\n",
              "      <th>4</th>\n",
              "      <td>Untimely sent; they on the battle plain\\n</td>\n",
              "      <td>0</td>\n",
              "      <td>untimely send battle plain</td>\n",
              "    </tr>\n",
              "  </tbody>\n",
              "</table>\n",
              "</div>\n",
              "      <button class=\"colab-df-convert\" onclick=\"convertToInteractive('df-269befee-1222-4313-a523-15426b927e71')\"\n",
              "              title=\"Convert this dataframe to an interactive table.\"\n",
              "              style=\"display:none;\">\n",
              "        \n",
              "  <svg xmlns=\"http://www.w3.org/2000/svg\" height=\"24px\"viewBox=\"0 0 24 24\"\n",
              "       width=\"24px\">\n",
              "    <path d=\"M0 0h24v24H0V0z\" fill=\"none\"/>\n",
              "    <path d=\"M18.56 5.44l.94 2.06.94-2.06 2.06-.94-2.06-.94-.94-2.06-.94 2.06-2.06.94zm-11 1L8.5 8.5l.94-2.06 2.06-.94-2.06-.94L8.5 2.5l-.94 2.06-2.06.94zm10 10l.94 2.06.94-2.06 2.06-.94-2.06-.94-.94-2.06-.94 2.06-2.06.94z\"/><path d=\"M17.41 7.96l-1.37-1.37c-.4-.4-.92-.59-1.43-.59-.52 0-1.04.2-1.43.59L10.3 9.45l-7.72 7.72c-.78.78-.78 2.05 0 2.83L4 21.41c.39.39.9.59 1.41.59.51 0 1.02-.2 1.41-.59l7.78-7.78 2.81-2.81c.8-.78.8-2.07 0-2.86zM5.41 20L4 18.59l7.72-7.72 1.47 1.35L5.41 20z\"/>\n",
              "  </svg>\n",
              "      </button>\n",
              "      \n",
              "  <style>\n",
              "    .colab-df-container {\n",
              "      display:flex;\n",
              "      flex-wrap:wrap;\n",
              "      gap: 12px;\n",
              "    }\n",
              "\n",
              "    .colab-df-convert {\n",
              "      background-color: #E8F0FE;\n",
              "      border: none;\n",
              "      border-radius: 50%;\n",
              "      cursor: pointer;\n",
              "      display: none;\n",
              "      fill: #1967D2;\n",
              "      height: 32px;\n",
              "      padding: 0 0 0 0;\n",
              "      width: 32px;\n",
              "    }\n",
              "\n",
              "    .colab-df-convert:hover {\n",
              "      background-color: #E2EBFA;\n",
              "      box-shadow: 0px 1px 2px rgba(60, 64, 67, 0.3), 0px 1px 3px 1px rgba(60, 64, 67, 0.15);\n",
              "      fill: #174EA6;\n",
              "    }\n",
              "\n",
              "    [theme=dark] .colab-df-convert {\n",
              "      background-color: #3B4455;\n",
              "      fill: #D2E3FC;\n",
              "    }\n",
              "\n",
              "    [theme=dark] .colab-df-convert:hover {\n",
              "      background-color: #434B5C;\n",
              "      box-shadow: 0px 1px 3px 1px rgba(0, 0, 0, 0.15);\n",
              "      filter: drop-shadow(0px 1px 2px rgba(0, 0, 0, 0.3));\n",
              "      fill: #FFFFFF;\n",
              "    }\n",
              "  </style>\n",
              "\n",
              "      <script>\n",
              "        const buttonEl =\n",
              "          document.querySelector('#df-269befee-1222-4313-a523-15426b927e71 button.colab-df-convert');\n",
              "        buttonEl.style.display =\n",
              "          google.colab.kernel.accessAllowed ? 'block' : 'none';\n",
              "\n",
              "        async function convertToInteractive(key) {\n",
              "          const element = document.querySelector('#df-269befee-1222-4313-a523-15426b927e71');\n",
              "          const dataTable =\n",
              "            await google.colab.kernel.invokeFunction('convertToInteractive',\n",
              "                                                     [key], {});\n",
              "          if (!dataTable) return;\n",
              "\n",
              "          const docLinkHtml = 'Like what you see? Visit the ' +\n",
              "            '<a target=\"_blank\" href=https://colab.research.google.com/notebooks/data_table.ipynb>data table notebook</a>'\n",
              "            + ' to learn more about interactive tables.';\n",
              "          element.innerHTML = '';\n",
              "          dataTable['output_type'] = 'display_data';\n",
              "          await google.colab.output.renderOutput(dataTable, element);\n",
              "          const docLink = document.createElement('div');\n",
              "          docLink.innerHTML = docLinkHtml;\n",
              "          element.appendChild(docLink);\n",
              "        }\n",
              "      </script>\n",
              "    </div>\n",
              "  </div>\n",
              "  "
            ],
            "text/plain": [
              "                                                text  ...                      text_clean\n",
              "0         ﻿Of Peleus' son, Achilles, sing, O Muse,\\n  ...  peleus son achille sing o muse\n",
              "1  The vengeance, deep and deadly; whence to Gree...  ...    vengeance deep deadly greece\n",
              "2         Unnumbered ills arose; which many a soul\\n  ...       unnumbered ill arise soul\n",
              "3        Of mighty warriors to the viewless shades\\n  ...   mighty warrior viewless shade\n",
              "4          Untimely sent; they on the battle plain\\n  ...      untimely send battle plain\n",
              "\n",
              "[5 rows x 3 columns]"
            ]
          },
          "metadata": {},
          "execution_count": 14
        }
      ]
    },
    {
      "cell_type": "code",
      "metadata": {
        "colab": {
          "base_uri": "https://localhost:8080/",
          "height": 206
        },
        "id": "rPpuLPnjUU3k",
        "outputId": "8b554c20-9495-444c-867f-fcbf6b96aaa7"
      },
      "source": [
        "# Create a tokenizer instance\n",
        "tokenizer = tf.keras.preprocessing.text.Tokenizer()\n",
        "tokenizer.fit_on_texts(df[\"text_clean\"])\n",
        "\n",
        "# Tokenization + Encoding\n",
        "df[\"encoded\"] = tokenizer.texts_to_sequences(df[\"text_clean\"])\n",
        "df.head()"
      ],
      "execution_count": null,
      "outputs": [
        {
          "output_type": "execute_result",
          "data": {
            "text/html": [
              "\n",
              "  <div id=\"df-72b6045d-035a-4772-bcfc-62a8beebfecc\">\n",
              "    <div class=\"colab-df-container\">\n",
              "      <div>\n",
              "<style scoped>\n",
              "    .dataframe tbody tr th:only-of-type {\n",
              "        vertical-align: middle;\n",
              "    }\n",
              "\n",
              "    .dataframe tbody tr th {\n",
              "        vertical-align: top;\n",
              "    }\n",
              "\n",
              "    .dataframe thead th {\n",
              "        text-align: right;\n",
              "    }\n",
              "</style>\n",
              "<table border=\"1\" class=\"dataframe\">\n",
              "  <thead>\n",
              "    <tr style=\"text-align: right;\">\n",
              "      <th></th>\n",
              "      <th>text</th>\n",
              "      <th>label</th>\n",
              "      <th>text_clean</th>\n",
              "      <th>encoded</th>\n",
              "    </tr>\n",
              "  </thead>\n",
              "  <tbody>\n",
              "    <tr>\n",
              "      <th>0</th>\n",
              "      <td>﻿Of Peleus' son, Achilles, sing, O Muse,\\n</td>\n",
              "      <td>0</td>\n",
              "      <td>peleus son achille sing o muse</td>\n",
              "      <td>[92, 1, 9, 2110, 251, 1173]</td>\n",
              "    </tr>\n",
              "    <tr>\n",
              "      <th>1</th>\n",
              "      <td>The vengeance, deep and deadly; whence to Gree...</td>\n",
              "      <td>0</td>\n",
              "      <td>vengeance deep deadly greece</td>\n",
              "      <td>[1053, 147, 818, 130]</td>\n",
              "    </tr>\n",
              "    <tr>\n",
              "      <th>2</th>\n",
              "      <td>Unnumbered ills arose; which many a soul\\n</td>\n",
              "      <td>0</td>\n",
              "      <td>unnumbered ill arise soul</td>\n",
              "      <td>[8204, 365, 303, 187]</td>\n",
              "    </tr>\n",
              "    <tr>\n",
              "      <th>3</th>\n",
              "      <td>Of mighty warriors to the viewless shades\\n</td>\n",
              "      <td>0</td>\n",
              "      <td>mighty warrior viewless shade</td>\n",
              "      <td>[86, 88, 3293, 487]</td>\n",
              "    </tr>\n",
              "    <tr>\n",
              "      <th>4</th>\n",
              "      <td>Untimely sent; they on the battle plain\\n</td>\n",
              "      <td>0</td>\n",
              "      <td>untimely send battle plain</td>\n",
              "      <td>[3593, 67, 25, 101]</td>\n",
              "    </tr>\n",
              "  </tbody>\n",
              "</table>\n",
              "</div>\n",
              "      <button class=\"colab-df-convert\" onclick=\"convertToInteractive('df-72b6045d-035a-4772-bcfc-62a8beebfecc')\"\n",
              "              title=\"Convert this dataframe to an interactive table.\"\n",
              "              style=\"display:none;\">\n",
              "        \n",
              "  <svg xmlns=\"http://www.w3.org/2000/svg\" height=\"24px\"viewBox=\"0 0 24 24\"\n",
              "       width=\"24px\">\n",
              "    <path d=\"M0 0h24v24H0V0z\" fill=\"none\"/>\n",
              "    <path d=\"M18.56 5.44l.94 2.06.94-2.06 2.06-.94-2.06-.94-.94-2.06-.94 2.06-2.06.94zm-11 1L8.5 8.5l.94-2.06 2.06-.94-2.06-.94L8.5 2.5l-.94 2.06-2.06.94zm10 10l.94 2.06.94-2.06 2.06-.94-2.06-.94-.94-2.06-.94 2.06-2.06.94z\"/><path d=\"M17.41 7.96l-1.37-1.37c-.4-.4-.92-.59-1.43-.59-.52 0-1.04.2-1.43.59L10.3 9.45l-7.72 7.72c-.78.78-.78 2.05 0 2.83L4 21.41c.39.39.9.59 1.41.59.51 0 1.02-.2 1.41-.59l7.78-7.78 2.81-2.81c.8-.78.8-2.07 0-2.86zM5.41 20L4 18.59l7.72-7.72 1.47 1.35L5.41 20z\"/>\n",
              "  </svg>\n",
              "      </button>\n",
              "      \n",
              "  <style>\n",
              "    .colab-df-container {\n",
              "      display:flex;\n",
              "      flex-wrap:wrap;\n",
              "      gap: 12px;\n",
              "    }\n",
              "\n",
              "    .colab-df-convert {\n",
              "      background-color: #E8F0FE;\n",
              "      border: none;\n",
              "      border-radius: 50%;\n",
              "      cursor: pointer;\n",
              "      display: none;\n",
              "      fill: #1967D2;\n",
              "      height: 32px;\n",
              "      padding: 0 0 0 0;\n",
              "      width: 32px;\n",
              "    }\n",
              "\n",
              "    .colab-df-convert:hover {\n",
              "      background-color: #E2EBFA;\n",
              "      box-shadow: 0px 1px 2px rgba(60, 64, 67, 0.3), 0px 1px 3px 1px rgba(60, 64, 67, 0.15);\n",
              "      fill: #174EA6;\n",
              "    }\n",
              "\n",
              "    [theme=dark] .colab-df-convert {\n",
              "      background-color: #3B4455;\n",
              "      fill: #D2E3FC;\n",
              "    }\n",
              "\n",
              "    [theme=dark] .colab-df-convert:hover {\n",
              "      background-color: #434B5C;\n",
              "      box-shadow: 0px 1px 3px 1px rgba(0, 0, 0, 0.15);\n",
              "      filter: drop-shadow(0px 1px 2px rgba(0, 0, 0, 0.3));\n",
              "      fill: #FFFFFF;\n",
              "    }\n",
              "  </style>\n",
              "\n",
              "      <script>\n",
              "        const buttonEl =\n",
              "          document.querySelector('#df-72b6045d-035a-4772-bcfc-62a8beebfecc button.colab-df-convert');\n",
              "        buttonEl.style.display =\n",
              "          google.colab.kernel.accessAllowed ? 'block' : 'none';\n",
              "\n",
              "        async function convertToInteractive(key) {\n",
              "          const element = document.querySelector('#df-72b6045d-035a-4772-bcfc-62a8beebfecc');\n",
              "          const dataTable =\n",
              "            await google.colab.kernel.invokeFunction('convertToInteractive',\n",
              "                                                     [key], {});\n",
              "          if (!dataTable) return;\n",
              "\n",
              "          const docLinkHtml = 'Like what you see? Visit the ' +\n",
              "            '<a target=\"_blank\" href=https://colab.research.google.com/notebooks/data_table.ipynb>data table notebook</a>'\n",
              "            + ' to learn more about interactive tables.';\n",
              "          element.innerHTML = '';\n",
              "          dataTable['output_type'] = 'display_data';\n",
              "          await google.colab.output.renderOutput(dataTable, element);\n",
              "          const docLink = document.createElement('div');\n",
              "          docLink.innerHTML = docLinkHtml;\n",
              "          element.appendChild(docLink);\n",
              "        }\n",
              "      </script>\n",
              "    </div>\n",
              "  </div>\n",
              "  "
            ],
            "text/plain": [
              "                                                text  ...                      encoded\n",
              "0         ﻿Of Peleus' son, Achilles, sing, O Muse,\\n  ...  [92, 1, 9, 2110, 251, 1173]\n",
              "1  The vengeance, deep and deadly; whence to Gree...  ...        [1053, 147, 818, 130]\n",
              "2         Unnumbered ills arose; which many a soul\\n  ...        [8204, 365, 303, 187]\n",
              "3        Of mighty warriors to the viewless shades\\n  ...          [86, 88, 3293, 487]\n",
              "4          Untimely sent; they on the battle plain\\n  ...          [3593, 67, 25, 101]\n",
              "\n",
              "[5 rows x 4 columns]"
            ]
          },
          "metadata": {},
          "execution_count": 15
        }
      ]
    },
    {
      "cell_type": "code",
      "metadata": {
        "colab": {
          "base_uri": "https://localhost:8080/"
        },
        "id": "xqL6d3EqcJGR",
        "outputId": "75334183-ed63-4ef9-f535-d2c6103872c1"
      },
      "source": [
        "# pad sequences\n",
        "# séquences de compactage\n",
        "\n",
        "padded_ecoded_text = tf.keras.preprocessing.sequence.pad_sequences(df[\"encoded\"], padding=\"post\")\n",
        "padded_ecoded_text"
      ],
      "execution_count": null,
      "outputs": [
        {
          "output_type": "execute_result",
          "data": {
            "text/plain": [
              "array([[  92,    1,    9, ...,    0,    0,    0],\n",
              "       [1053,  147,  818, ...,    0,    0,    0],\n",
              "       [8204,  365,  303, ...,    0,    0,    0],\n",
              "       ...,\n",
              "       [1181, 1087,  423, ...,    0,    0,    0],\n",
              "       [2005,  161,   79, ...,    0,    0,    0],\n",
              "       [2758,  436,    4, ...,    0,    0,    0]], dtype=int32)"
            ]
          },
          "metadata": {},
          "execution_count": 16
        }
      ]
    },
    {
      "cell_type": "code",
      "metadata": {
        "id": "nbFT-hs4aajy"
      },
      "source": [
        "# create the tensorflow dataset\n",
        "all_encoded_data = tf.data.Dataset.from_tensor_slices((padded_ecoded_text, df[\"label\"].values))\n",
        "\n",
        "# shuffle dataset\n",
        "# Brasser les données\n",
        "\n",
        "all_encoded_data = all_encoded_data.shuffle(len(padded_ecoded_text))"
      ],
      "execution_count": null,
      "outputs": []
    },
    {
      "cell_type": "code",
      "metadata": {
        "id": "uo7edz0PAr3v"
      },
      "source": [
        "# Train Test Split\n",
        "# Train Test Division\n",
        "\n",
        "TAKE_SIZE = 5000\n",
        "\n",
        "train_data = all_encoded_data.skip(TAKE_SIZE).shuffle(50000)\n",
        "train_data = train_data.batch(64)\n",
        "\n",
        "test_data = all_encoded_data.take(TAKE_SIZE)\n",
        "test_data = test_data.batch(64)"
      ],
      "execution_count": null,
      "outputs": []
    },
    {
      "cell_type": "code",
      "metadata": {
        "colab": {
          "base_uri": "https://localhost:8080/"
        },
        "id": "V8jxCfSSOUZ_",
        "outputId": "396d4852-4659-45cf-c6bf-0248c8848831"
      },
      "source": [
        "# Let's look at a batch\n",
        "# Regardons un lot\n",
        "\n",
        "for sample_text, sample_labels in test_data.take(1):\n",
        "  print(sample_text, sample_labels)"
      ],
      "execution_count": null,
      "outputs": [
        {
          "output_type": "stream",
          "name": "stdout",
          "text": [
            "tf.Tensor(\n",
            "[[1428  131  100 1104    0    0    0    0    0    0]\n",
            " [  85   70   17  506  121    0    0    0    0    0]\n",
            " [4988 4654  154    0    0    0    0    0    0    0]\n",
            " [   7  149   64  559 1901  107 1164    0    0    0]\n",
            " [1896  196  978  190    0    0    0    0    0    0]\n",
            " [1196   17  164   96  877   54    0    0    0    0]\n",
            " [  47  675 2801    0    0    0    0    0    0    0]\n",
            " [ 477  157    0    0    0    0    0    0    0    0]\n",
            " [ 166  226  313    0    0    0    0    0    0    0]\n",
            " [ 128   39 8272    0    0    0    0    0    0    0]\n",
            " [ 512 7928 1005    0    0    0    0    0    0    0]\n",
            " [1033 3794  563    0    0    0    0    0    0    0]\n",
            " [ 976  463  227  485    0    0    0    0    0    0]\n",
            " [2424  274   85  907    0    0    0    0    0    0]\n",
            " [ 670   39    0    0    0    0    0    0    0    0]\n",
            " [   9 2646   15 6040   57    0    0    0    0    0]\n",
            " [ 851   66  141    0    0    0    0    0    0    0]\n",
            " [ 104 2432    0    0    0    0    0    0    0    0]\n",
            " [ 104 1744 1257   22    0    0    0    0    0    0]\n",
            " [6901 9007  394  372    0    0    0    0    0    0]\n",
            " [1351   78  480  754    0    0    0    0    0    0]\n",
            " [ 305  131  801    0    0    0    0    0    0    0]\n",
            " [ 402   52  466 2139  101    0    0    0    0    0]\n",
            " [  10    2  577  166   17 2309  492    0    0    0]\n",
            " [   3  294   46 3587  238    0    0    0    0    0]\n",
            " [2494 1832  784    6    0    0    0    0    0    0]\n",
            " [  41  172  720   13 1774    0    0    0    0    0]\n",
            " [  29   94 3833    0    0    0    0    0    0    0]\n",
            " [ 962 1460    0    0    0    0    0    0    0    0]\n",
            " [  34    1  338  129  361  160    0    0    0    0]\n",
            " [1341  986 5712  729 1914    0    0    0    0    0]\n",
            " [  28    1    7  214    0    0    0    0    0    0]\n",
            " [ 234 1157 2671  946    0    0    0    0    0    0]\n",
            " [ 465   29  757 5016    0    0    0    0    0    0]\n",
            " [  18  166 2224    0    0    0    0    0    0    0]\n",
            " [   1 1663   38   54   14    1  120    0    0    0]\n",
            " [1010   51  732    0    0    0    0    0    0    0]\n",
            " [  62 1373 1767    0    0    0    0    0    0    0]\n",
            " [ 154   19  262   25  360    0    0    0    0    0]\n",
            " [ 555   87    5  530    0    0    0    0    0    0]\n",
            " [ 143   25 4115    0    0    0    0    0    0    0]\n",
            " [  66  780  778  205    0    0    0    0    0    0]\n",
            " [  71   83   98   84   17  322    0    0    0    0]\n",
            " [   9 1161   43   20  533    0    0    0    0    0]\n",
            " [ 251  496  389   12    5    0    0    0    0    0]\n",
            " [   1  130  377  295 1163    0    0    0    0    0]\n",
            " [1451   58  146  208    0    0    0    0    0    0]\n",
            " [  80  292 1294   53  139    0    0    0    0    0]\n",
            " [ 100 1637 1138   47    0    0    0    0    0    0]\n",
            " [3633  118 2361    0    0    0    0    0    0    0]\n",
            " [  36 4464  263 2357 1353    0    0    0    0    0]\n",
            " [  23 8181 1218  562    0    0    0    0    0    0]\n",
            " [  52 8861 8862    0    0    0    0    0    0    0]\n",
            " [  81    2 2133  163    0    0    0    0    0    0]\n",
            " [1094   26  865   31  518    0    0    0    0    0]\n",
            " [1294  126  228   21    0    0    0    0    0    0]\n",
            " [ 241  358  114    0    0    0    0    0    0    0]\n",
            " [8143 1554 5744    0    0    0    0    0    0    0]\n",
            " [1402   43  353  405  505  148    0    0    0    0]\n",
            " [2049 6707  580    3    0    0    0    0    0    0]\n",
            " [  71 1600   25    2 5634    2    0    0    0    0]\n",
            " [ 977  334  247 3709  139    0    0    0    0    0]\n",
            " [ 544   17  273   11    0    0    0    0    0    0]\n",
            " [ 449  124    0    0    0    0    0    0    0    0]], shape=(64, 10), dtype=int32) tf.Tensor(\n",
            "[0 0 2 1 2 1 2 2 0 0 2 2 2 0 0 1 0 2 2 0 0 2 0 1 2 0 1 0 0 1 0 2 0 1 1 1 2\n",
            " 2 2 0 0 2 1 2 2 0 2 2 2 2 2 2 0 0 1 2 0 2 1 0 2 0 0 0], shape=(64,), dtype=int64)\n"
          ]
        }
      ]
    },
    {
      "cell_type": "markdown",
      "metadata": {
        "id": "lMaPEPk6QS4x"
      },
      "source": [
        "## Modeling\n",
        "\n",
        "Let's create a model based on an LSTM layer to classify our different translations \n",
        "\n",
        "## Modélisation\n",
        "\n",
        "### Créons un modèle basé sur une couche LSTM pour classer nos différentes traductions. "
      ]
    },
    {
      "cell_type": "code",
      "metadata": {
        "colab": {
          "base_uri": "https://localhost:8080/"
        },
        "id": "-XVSAo5tdRNc",
        "outputId": "d5e4272c-8859-4afe-d86d-93d67faeca67"
      },
      "source": [
        "vocab_size = len(tokenizer.word_index)\n",
        "vocab_size"
      ],
      "execution_count": null,
      "outputs": [
        {
          "output_type": "execute_result",
          "data": {
            "text/plain": [
              "13677"
            ]
          },
          "metadata": {},
          "execution_count": 20
        }
      ]
    },
    {
      "cell_type": "code",
      "metadata": {
        "id": "hcrXtcaiPK9Y"
      },
      "source": [
        "model = tf.keras.Sequential([\n",
        "                  # Layer Input Word Embedding  \n",
        "                  # Couche d'entrée d'incorporation de mots  \n",
        "\n",
        "                  tf.keras.layers.Embedding(vocab_size+1, 64, input_shape=[10,]),\n",
        "\n",
        "                  # Flatten\n",
        "                  # Aplatir\n",
        "\n",
        "                  tf.keras.layers.Flatten(),\n",
        "                  \n",
        "                  # Layer Dense classique \n",
        "                  # Couche dense classique \n",
        "\n",
        "                  tf.keras.layers.Dense(64, activation='relu'),\n",
        "                  tf.keras.layers.Dense(32, activation='relu'),\n",
        "\n",
        "                  # Output layer with number of output neurons equal to class number with softmax function\n",
        "                  # Couche de sortie avec un nombre de neurones de sortie égal au nombre de classes avec la fonction softmax.\n",
        "                  \n",
        "                  tf.keras.layers.Dense(3, activation='softmax')\n",
        "])"
      ],
      "execution_count": null,
      "outputs": []
    },
    {
      "cell_type": "code",
      "metadata": {
        "colab": {
          "base_uri": "https://localhost:8080/"
        },
        "id": "UDr3hVJFw3Pk",
        "outputId": "2da2bfae-5b9e-4479-e6d4-13806999801f"
      },
      "source": [
        "model.summary()"
      ],
      "execution_count": null,
      "outputs": [
        {
          "output_type": "stream",
          "name": "stdout",
          "text": [
            "Model: \"sequential\"\n",
            "_________________________________________________________________\n",
            " Layer (type)                Output Shape              Param #   \n",
            "=================================================================\n",
            " embedding (Embedding)       (None, 10, 64)            875392    \n",
            "                                                                 \n",
            " flatten (Flatten)           (None, 640)               0         \n",
            "                                                                 \n",
            " dense (Dense)               (None, 64)                41024     \n",
            "                                                                 \n",
            " dense_1 (Dense)             (None, 32)                2080      \n",
            "                                                                 \n",
            " dense_2 (Dense)             (None, 3)                 99        \n",
            "                                                                 \n",
            "=================================================================\n",
            "Total params: 918,595\n",
            "Trainable params: 918,595\n",
            "Non-trainable params: 0\n",
            "_________________________________________________________________\n"
          ]
        }
      ]
    },
    {
      "cell_type": "code",
      "metadata": {
        "id": "yOXk9F0YQ0j5"
      },
      "source": [
        "# Using a simple compiler with an Adam optimizer to calculate our gradients \n",
        "# Utiliser un simple compilateur avec un optimiseur Adam pour calculer nos gradients\n",
        "\n",
        "model.compile(optimizer=tf.keras.optimizers.Adam(),\n",
        "              loss=tf.keras.losses.SparseCategoricalCrossentropy(),\n",
        "              metrics=[tf.keras.metrics.SparseCategoricalAccuracy()])"
      ],
      "execution_count": null,
      "outputs": []
    },
    {
      "cell_type": "code",
      "metadata": {
        "colab": {
          "base_uri": "https://localhost:8080/"
        },
        "id": "9qvWNK09RAPR",
        "outputId": "2c33c018-32c8-44e1-a3bd-97054be3698f"
      },
      "source": [
        "# Model training\n",
        "history = model.fit(train_data, epochs=10, validation_data=test_data)"
      ],
      "execution_count": null,
      "outputs": [
        {
          "output_type": "stream",
          "name": "stdout",
          "text": [
            "Epoch 1/10\n",
            "697/697 [==============================] - 6s 5ms/step - loss: 0.7058 - sparse_categorical_accuracy: 0.6662 - val_loss: 0.4467 - val_sparse_categorical_accuracy: 0.8178\n",
            "Epoch 2/10\n",
            "697/697 [==============================] - 4s 5ms/step - loss: 0.4556 - sparse_categorical_accuracy: 0.8065 - val_loss: 0.3138 - val_sparse_categorical_accuracy: 0.8830\n",
            "Epoch 3/10\n",
            "697/697 [==============================] - 4s 5ms/step - loss: 0.3402 - sparse_categorical_accuracy: 0.8620 - val_loss: 0.2394 - val_sparse_categorical_accuracy: 0.9078\n",
            "Epoch 4/10\n",
            "697/697 [==============================] - 4s 5ms/step - loss: 0.2768 - sparse_categorical_accuracy: 0.8887 - val_loss: 0.1972 - val_sparse_categorical_accuracy: 0.9280\n",
            "Epoch 5/10\n",
            "697/697 [==============================] - 4s 5ms/step - loss: 0.2379 - sparse_categorical_accuracy: 0.9054 - val_loss: 0.1670 - val_sparse_categorical_accuracy: 0.9404\n",
            "Epoch 6/10\n",
            "697/697 [==============================] - 4s 5ms/step - loss: 0.2096 - sparse_categorical_accuracy: 0.9167 - val_loss: 0.1600 - val_sparse_categorical_accuracy: 0.9392\n",
            "Epoch 7/10\n",
            "697/697 [==============================] - 4s 5ms/step - loss: 0.1868 - sparse_categorical_accuracy: 0.9253 - val_loss: 0.1407 - val_sparse_categorical_accuracy: 0.9472\n",
            "Epoch 8/10\n",
            "697/697 [==============================] - 4s 5ms/step - loss: 0.1645 - sparse_categorical_accuracy: 0.9322 - val_loss: 0.1193 - val_sparse_categorical_accuracy: 0.9562\n",
            "Epoch 9/10\n",
            "697/697 [==============================] - 4s 5ms/step - loss: 0.1435 - sparse_categorical_accuracy: 0.9419 - val_loss: 0.1043 - val_sparse_categorical_accuracy: 0.9606\n",
            "Epoch 10/10\n",
            "697/697 [==============================] - 4s 5ms/step - loss: 0.1204 - sparse_categorical_accuracy: 0.9512 - val_loss: 0.0878 - val_sparse_categorical_accuracy: 0.9678\n"
          ]
        }
      ]
    },
    {
      "cell_type": "markdown",
      "metadata": {
        "id": "xDnsfUFQTkyJ"
      },
      "source": [
        "## Evaluation "
      ]
    },
    {
      "cell_type": "code",
      "metadata": {
        "colab": {
          "base_uri": "https://localhost:8080/",
          "height": 279
        },
        "id": "mafVWHDFRIH6",
        "outputId": "fc575bd2-3d48-4eaf-d053-3814bd844744"
      },
      "source": [
        "import matplotlib.pyplot as plt\n",
        "\n",
        "# Visualization of the training process on the loss function \n",
        "# Visualisation du processus de formation sur la fonction de perte \n",
        "\n",
        "plt.plot(history.history[\"loss\"], color=\"b\")\n",
        "plt.plot(history.history[\"val_loss\"], color=\"r\")\n",
        "plt.ylabel(\"loss\")\n",
        "plt.xlabel(\"Epochs\")\n",
        "plt.show()"
      ],
      "execution_count": null,
      "outputs": [
        {
          "output_type": "display_data",
          "data": {
            "image/png": "[encoded data removed]",
            "text/plain": [
              "<Figure size 432x288 with 1 Axes>"
            ]
          },
          "metadata": {
            "needs_background": "light"
          }
        }
      ]
    },
    {
      "cell_type": "code",
      "metadata": {
        "colab": {
          "base_uri": "https://localhost:8080/",
          "height": 235
        },
        "id": "D96WZP8cVOFL",
        "outputId": "9362092f-a342-40c6-d548-7820e085a975"
      },
      "source": [
        "# Visualisation de l'entrainement sur l'accuracy \n",
        "\n",
        "plt.plot(history.history[\"accuracy\"], color=\"b\")  \n",
        "plt.plot(history.history[\"val_accuracy\"], color=\"r\")\n",
        "plt.ylabel(\"accuracy\")\n",
        "plt.xlabel(\"Epochs\")\n",
        "plt.show()"
      ],
      "execution_count": null,
      "outputs": [
        {
          "output_type": "error",
          "ename": "KeyError",
          "evalue": "ignored",
          "traceback": [
            "\u001b[0;31m---------------------------------------------------------------------------\u001b[0m",
            "\u001b[0;31mKeyError\u001b[0m                                  Traceback (most recent call last)",
            "\u001b[0;32m<ipython-input-47-13e681608986>\u001b[0m in \u001b[0;36m<module>\u001b[0;34m()\u001b[0m\n\u001b[1;32m      1\u001b[0m \u001b[0;31m# Visualisation de l'entrainement sur l'accuracy\u001b[0m\u001b[0;34m\u001b[0m\u001b[0;34m\u001b[0m\u001b[0;34m\u001b[0m\u001b[0m\n\u001b[1;32m      2\u001b[0m \u001b[0;34m\u001b[0m\u001b[0m\n\u001b[0;32m----> 3\u001b[0;31m \u001b[0mplt\u001b[0m\u001b[0;34m.\u001b[0m\u001b[0mplot\u001b[0m\u001b[0;34m(\u001b[0m\u001b[0mhistory\u001b[0m\u001b[0;34m.\u001b[0m\u001b[0mhistory\u001b[0m\u001b[0;34m[\u001b[0m\u001b[0;34m\"accuracy\"\u001b[0m\u001b[0;34m]\u001b[0m\u001b[0;34m,\u001b[0m \u001b[0mcolor\u001b[0m\u001b[0;34m=\u001b[0m\u001b[0;34m\"b\"\u001b[0m\u001b[0;34m)\u001b[0m\u001b[0;34m\u001b[0m\u001b[0;34m\u001b[0m\u001b[0m\n\u001b[0m\u001b[1;32m      4\u001b[0m \u001b[0mplt\u001b[0m\u001b[0;34m.\u001b[0m\u001b[0mplot\u001b[0m\u001b[0;34m(\u001b[0m\u001b[0mhistory\u001b[0m\u001b[0;34m.\u001b[0m\u001b[0mhistory\u001b[0m\u001b[0;34m[\u001b[0m\u001b[0;34m\"val_accuracy\"\u001b[0m\u001b[0;34m]\u001b[0m\u001b[0;34m,\u001b[0m \u001b[0mcolor\u001b[0m\u001b[0;34m=\u001b[0m\u001b[0;34m\"r\"\u001b[0m\u001b[0;34m)\u001b[0m\u001b[0;34m\u001b[0m\u001b[0;34m\u001b[0m\u001b[0m\n\u001b[1;32m      5\u001b[0m \u001b[0mplt\u001b[0m\u001b[0;34m.\u001b[0m\u001b[0mylabel\u001b[0m\u001b[0;34m(\u001b[0m\u001b[0;34m\"accuracy\"\u001b[0m\u001b[0;34m)\u001b[0m\u001b[0;34m\u001b[0m\u001b[0;34m\u001b[0m\u001b[0m\n",
            "\u001b[0;31mKeyError\u001b[0m: 'accuracy'"
          ]
        }
      ]
    },
    {
      "cell_type": "code",
      "metadata": {
        "id": "hBLEHN85VOqx"
      },
      "source": [
        ""
      ],
      "execution_count": null,
      "outputs": []
    }
  ]
}